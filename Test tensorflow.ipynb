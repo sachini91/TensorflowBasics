{
 "cells": [
  {
   "cell_type": "markdown",
   "metadata": {},
   "source": [
    "Simple tests with tesorflow"
   ]
  },
  {
   "cell_type": "code",
   "execution_count": 33,
   "metadata": {},
   "outputs": [],
   "source": [
    "import tensorflow as tf"
   ]
  },
  {
   "cell_type": "code",
   "execution_count": 34,
   "metadata": {},
   "outputs": [
    {
     "name": "stdout",
     "output_type": "stream",
     "text": [
      "<class 'tensorflow.python.framework.ops.Tensor'>\n",
      "Tensor(\"add_8:0\", shape=(), dtype=string)\n"
     ]
    }
   ],
   "source": [
    "string1 = tf.constant('Hello')\n",
    "string2= tf.constant(' TensorFlow')\n",
    "grettings = (string1 + string2)\n",
    "print (type(grettings))\n",
    "print (grettings)"
   ]
  },
  {
   "cell_type": "code",
   "execution_count": 35,
   "metadata": {},
   "outputs": [
    {
     "name": "stdout",
     "output_type": "stream",
     "text": [
      "b'Hello TensorFlow'\n"
     ]
    }
   ],
   "source": [
    "with tf.Session() as sess:\n",
    "    result = sess.run(grettings)\n",
    "    print (result)"
   ]
  },
  {
   "cell_type": "code",
   "execution_count": 36,
   "metadata": {},
   "outputs": [
    {
     "name": "stdout",
     "output_type": "stream",
     "text": [
      "Ans:\n",
      "[[20 28]\n",
      " [40 56]]\n"
     ]
    }
   ],
   "source": [
    "Matrix_1 = tf.constant([ [1,3],\n",
    "                          [2,6]])\n",
    "Matrix_2 = tf.constant([ [2,4],\n",
    "                          [6,8]])\n",
    "MatMul = tf.matmul(Matrix_1, Matrix_2)\n",
    "\n",
    "with tf.Session() as sess:\n",
    "    result = sess.run(MatMul)\n",
    "    \n",
    "print(\"Ans:\")\n",
    "print(result)"
   ]
  }
 ],
 "metadata": {
  "kernelspec": {
   "display_name": "Python 3",
   "language": "python",
   "name": "python3"
  },
  "language_info": {
   "codemirror_mode": {
    "name": "ipython",
    "version": 3
   },
   "file_extension": ".py",
   "mimetype": "text/x-python",
   "name": "python",
   "nbconvert_exporter": "python",
   "pygments_lexer": "ipython3",
   "version": "3.7.4"
  }
 },
 "nbformat": 4,
 "nbformat_minor": 2
}
